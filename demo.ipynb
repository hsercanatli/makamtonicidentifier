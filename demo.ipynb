{
 "cells": [
  {
   "cell_type": "code",
   "execution_count": 1,
   "metadata": {
    "collapsed": false
   },
   "outputs": [],
   "source": [
    "%matplotlib inline\n",
    "\n",
    "import json\n",
    "from tonic_identifier.tonic_identifier import TonicLastNote\n",
    "from pitchfilter.pitchfilter import PitchPostFilter\n"
   ]
  },
  {
   "cell_type": "code",
   "execution_count": null,
   "metadata": {
    "collapsed": false
   },
   "outputs": [],
   "source": [
    "pitch = json.load(open(\"sample_data/cab08727-d5c2-4fda-9d96-d107915a85ec.json\", 'r'))['pitch']\n",
    "\n",
    "# Post process the pitch track to get rid of spurios pitch estimations and correct octave errors\n",
    "flt = PitchPostFilter()\n",
    "pitch = flt.run(pitch)"
   ]
  },
  {
   "cell_type": "code",
   "execution_count": null,
   "metadata": {
    "collapsed": false
   },
   "outputs": [
    {
     "name": "stdout",
     "output_type": "stream",
     "text": [
      "Tonic= {'time_interval': [246.13442176870748, 249.07174603174604], 'estimated_tonic': 215.44820070293142}\n",
      "> /home/sertansenturk/Documents/notaIcra/code/tonic_identifier/tonic_identifier/tonic_identifier.py(119)identify()\n",
      "-> return return_tonic, pitch, pitch_chunks, histo\n",
      "(Pdb) return_tonic\n",
      "{'estimatedInterval': [246.13442176870748, 249.07174603174604], 'octaveWrapped': 1, 'reference': 'Atli, H. S., Bozkurt B., & Senturk S. A method for tonic frequency identification of Turkish makam music recordings. 5th International Workshop on Folk Music Analysis (FMA), 2015.', 'value': 215.44820070293142, 'unit': 'Hz', 'timeUnit': 'sec', 'procedure': 'Tonic identification by detecting the last note'}\n"
     ]
    }
   ],
   "source": [
    "tonic_identifier = TonicLastNote()\n",
    "tonic, pitch, pitch_chunks, histo = tonic_identifier.identify(pitch)\n"
   ]
  },
  {
   "cell_type": "code",
   "execution_count": null,
   "metadata": {
    "collapsed": false
   },
   "outputs": [],
   "source": [
    "tonic_identifier.plot(pitch, tonic, pitch_chunks, histo)\n"
   ]
  },
  {
   "cell_type": "code",
   "execution_count": null,
   "metadata": {
    "collapsed": false
   },
   "outputs": [],
   "source": []
  }
 ],
 "metadata": {
  "kernelspec": {
   "display_name": "Python 2",
   "language": "python",
   "name": "python2"
  },
  "language_info": {
   "codemirror_mode": {
    "name": "ipython",
    "version": 2
   },
   "file_extension": ".py",
   "mimetype": "text/x-python",
   "name": "python",
   "nbconvert_exporter": "python",
   "pygments_lexer": "ipython2",
   "version": "2.7.6"
  }
 },
 "nbformat": 4,
 "nbformat_minor": 0
}
